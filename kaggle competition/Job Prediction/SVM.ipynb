{
  "cells": [
    {
      "cell_type": "markdown",
      "metadata": {
        "id": "4SnvhTg6HdKB"
      },
      "source": [
        "### SVM 사용(불균형데이터 + 랜덤서치)"
      ]
    },
    {
      "cell_type": "code",
      "execution_count": null,
      "metadata": {
        "id": "hGUd1HGgHdKC"
      },
      "outputs": [],
      "source": [
        "import seaborn as sns\n",
        "import matplotlib.pyplot as plt\n",
        "import numpy as np\n",
        "import pandas as pd\n",
        "from sklearn.svm import SVC\n",
        "from sklearn.model_selection import RandomizedSearchCV\n",
        "from scipy import stats"
      ]
    },
    {
      "cell_type": "code",
      "execution_count": null,
      "metadata": {
        "id": "xQN30lT_HdKE",
        "outputId": "281e82bc-5e3d-4982-a3c5-2a31820c60ad"
      },
      "outputs": [
        {
          "data": {
            "text/html": [
              "<div>\n",
              "<style scoped>\n",
              "    .dataframe tbody tr th:only-of-type {\n",
              "        vertical-align: middle;\n",
              "    }\n",
              "\n",
              "    .dataframe tbody tr th {\n",
              "        vertical-align: top;\n",
              "    }\n",
              "\n",
              "    .dataframe thead th {\n",
              "        text-align: right;\n",
              "    }\n",
              "</style>\n",
              "<table border=\"1\" class=\"dataframe\">\n",
              "  <thead>\n",
              "    <tr style=\"text-align: right;\">\n",
              "      <th></th>\n",
              "      <th>city</th>\n",
              "      <th>city_development_Index</th>\n",
              "      <th>gender</th>\n",
              "      <th>relevent_experience</th>\n",
              "      <th>enrolled_university</th>\n",
              "      <th>education_level</th>\n",
              "      <th>major_discipline</th>\n",
              "      <th>experience</th>\n",
              "      <th>company_size</th>\n",
              "      <th>company_type</th>\n",
              "      <th>last_new_job</th>\n",
              "      <th>training_hours</th>\n",
              "      <th>target</th>\n",
              "    </tr>\n",
              "  </thead>\n",
              "  <tbody>\n",
              "    <tr>\n",
              "      <th>0</th>\n",
              "      <td>city_103</td>\n",
              "      <td>0.920</td>\n",
              "      <td>Male</td>\n",
              "      <td>Has relevent experience</td>\n",
              "      <td>no_enrollment</td>\n",
              "      <td>Graduate</td>\n",
              "      <td>STEM</td>\n",
              "      <td>30</td>\n",
              "      <td>NaN</td>\n",
              "      <td>Other</td>\n",
              "      <td>1</td>\n",
              "      <td>36</td>\n",
              "      <td>1</td>\n",
              "    </tr>\n",
              "    <tr>\n",
              "      <th>1</th>\n",
              "      <td>city_40</td>\n",
              "      <td>0.776</td>\n",
              "      <td>Male</td>\n",
              "      <td>No relevent experience</td>\n",
              "      <td>no_enrollment</td>\n",
              "      <td>Graduate</td>\n",
              "      <td>STEM</td>\n",
              "      <td>15</td>\n",
              "      <td>3.0</td>\n",
              "      <td>Pvt Ltd</td>\n",
              "      <td>&gt;4</td>\n",
              "      <td>47</td>\n",
              "      <td>0</td>\n",
              "    </tr>\n",
              "    <tr>\n",
              "      <th>2</th>\n",
              "      <td>city_21</td>\n",
              "      <td>0.624</td>\n",
              "      <td>Other</td>\n",
              "      <td>No relevent experience</td>\n",
              "      <td>Full time course</td>\n",
              "      <td>Graduate</td>\n",
              "      <td>STEM</td>\n",
              "      <td>5</td>\n",
              "      <td>NaN</td>\n",
              "      <td>Other</td>\n",
              "      <td>never</td>\n",
              "      <td>83</td>\n",
              "      <td>0</td>\n",
              "    </tr>\n",
              "    <tr>\n",
              "      <th>3</th>\n",
              "      <td>city_162</td>\n",
              "      <td>0.767</td>\n",
              "      <td>Male</td>\n",
              "      <td>Has relevent experience</td>\n",
              "      <td>no_enrollment</td>\n",
              "      <td>Masters</td>\n",
              "      <td>STEM</td>\n",
              "      <td>30</td>\n",
              "      <td>3.0</td>\n",
              "      <td>Funded Startup</td>\n",
              "      <td>4</td>\n",
              "      <td>8</td>\n",
              "      <td>0</td>\n",
              "    </tr>\n",
              "    <tr>\n",
              "      <th>4</th>\n",
              "      <td>city_176</td>\n",
              "      <td>0.764</td>\n",
              "      <td>Other</td>\n",
              "      <td>Has relevent experience</td>\n",
              "      <td>Part time course</td>\n",
              "      <td>Graduate</td>\n",
              "      <td>STEM</td>\n",
              "      <td>11</td>\n",
              "      <td>NaN</td>\n",
              "      <td>Other</td>\n",
              "      <td>1</td>\n",
              "      <td>24</td>\n",
              "      <td>1</td>\n",
              "    </tr>\n",
              "  </tbody>\n",
              "</table>\n",
              "</div>"
            ],
            "text/plain": [
              "       city  city_development_Index gender      relevent_experience  \\\n",
              "0  city_103                   0.920   Male  Has relevent experience   \n",
              "1   city_40                   0.776   Male   No relevent experience   \n",
              "2   city_21                   0.624  Other   No relevent experience   \n",
              "3  city_162                   0.767   Male  Has relevent experience   \n",
              "4  city_176                   0.764  Other  Has relevent experience   \n",
              "\n",
              "  enrolled_university education_level major_discipline  experience  \\\n",
              "0       no_enrollment        Graduate             STEM          30   \n",
              "1       no_enrollment        Graduate             STEM          15   \n",
              "2    Full time course        Graduate             STEM           5   \n",
              "3       no_enrollment         Masters             STEM          30   \n",
              "4    Part time course        Graduate             STEM          11   \n",
              "\n",
              "   company_size    company_type last_new_job  training_hours  target  \n",
              "0           NaN           Other            1              36       1  \n",
              "1           3.0         Pvt Ltd           >4              47       0  \n",
              "2           NaN           Other        never              83       0  \n",
              "3           3.0  Funded Startup            4               8       0  \n",
              "4           NaN           Other            1              24       1  "
            ]
          },
          "execution_count": 2,
          "metadata": {},
          "output_type": "execute_result"
        }
      ],
      "source": [
        "training_df = changingjob_df = pd.read_csv('changingjob_train.csv',index_col=0)\n",
        "training_df.drop('Unnamed: 0.1', axis=1,inplace=True)\n",
        "training_df.head()"
      ]
    },
    {
      "cell_type": "code",
      "execution_count": null,
      "metadata": {
        "id": "sbsYfuigHdKF",
        "outputId": "dbc6a150-8c4c-4619-ef7d-663b1f290d71"
      },
      "outputs": [
        {
          "data": {
            "text/html": [
              "<div>\n",
              "<style scoped>\n",
              "    .dataframe tbody tr th:only-of-type {\n",
              "        vertical-align: middle;\n",
              "    }\n",
              "\n",
              "    .dataframe tbody tr th {\n",
              "        vertical-align: top;\n",
              "    }\n",
              "\n",
              "    .dataframe thead th {\n",
              "        text-align: right;\n",
              "    }\n",
              "</style>\n",
              "<table border=\"1\" class=\"dataframe\">\n",
              "  <thead>\n",
              "    <tr style=\"text-align: right;\">\n",
              "      <th></th>\n",
              "      <th>city</th>\n",
              "      <th>city_development_Index</th>\n",
              "      <th>gender</th>\n",
              "      <th>relevent_experience</th>\n",
              "      <th>enrolled_university</th>\n",
              "      <th>education_level</th>\n",
              "      <th>major_discipline</th>\n",
              "      <th>experience</th>\n",
              "      <th>company_size</th>\n",
              "      <th>company_type</th>\n",
              "      <th>last_new_job</th>\n",
              "      <th>training_hours</th>\n",
              "    </tr>\n",
              "  </thead>\n",
              "  <tbody>\n",
              "    <tr>\n",
              "      <th>0</th>\n",
              "      <td>city_128</td>\n",
              "      <td>0.527</td>\n",
              "      <td>Other</td>\n",
              "      <td>Has relevent experience</td>\n",
              "      <td>no_enrollment</td>\n",
              "      <td>Graduate</td>\n",
              "      <td>STEM</td>\n",
              "      <td>4</td>\n",
              "      <td>3.0</td>\n",
              "      <td>Pvt Ltd</td>\n",
              "      <td>4</td>\n",
              "      <td>36</td>\n",
              "    </tr>\n",
              "    <tr>\n",
              "      <th>1</th>\n",
              "      <td>city_114</td>\n",
              "      <td>0.926</td>\n",
              "      <td>Other</td>\n",
              "      <td>Has relevent experience</td>\n",
              "      <td>no_enrollment</td>\n",
              "      <td>Graduate</td>\n",
              "      <td>STEM</td>\n",
              "      <td>16</td>\n",
              "      <td>4.0</td>\n",
              "      <td>Pvt Ltd</td>\n",
              "      <td>&gt;4</td>\n",
              "      <td>8</td>\n",
              "    </tr>\n",
              "    <tr>\n",
              "      <th>2</th>\n",
              "      <td>city_114</td>\n",
              "      <td>0.926</td>\n",
              "      <td>Male</td>\n",
              "      <td>Has relevent experience</td>\n",
              "      <td>no_enrollment</td>\n",
              "      <td>Graduate</td>\n",
              "      <td>STEM</td>\n",
              "      <td>12</td>\n",
              "      <td>8.0</td>\n",
              "      <td>Pvt Ltd</td>\n",
              "      <td>4</td>\n",
              "      <td>35</td>\n",
              "    </tr>\n",
              "    <tr>\n",
              "      <th>3</th>\n",
              "      <td>city_67</td>\n",
              "      <td>0.855</td>\n",
              "      <td>Male</td>\n",
              "      <td>Has relevent experience</td>\n",
              "      <td>no_enrollment</td>\n",
              "      <td>Graduate</td>\n",
              "      <td>STEM</td>\n",
              "      <td>0</td>\n",
              "      <td>NaN</td>\n",
              "      <td>Other</td>\n",
              "      <td>1</td>\n",
              "      <td>41</td>\n",
              "    </tr>\n",
              "    <tr>\n",
              "      <th>4</th>\n",
              "      <td>city_100</td>\n",
              "      <td>0.887</td>\n",
              "      <td>Male</td>\n",
              "      <td>Has relevent experience</td>\n",
              "      <td>no_enrollment</td>\n",
              "      <td>Graduate</td>\n",
              "      <td>STEM</td>\n",
              "      <td>2</td>\n",
              "      <td>5.0</td>\n",
              "      <td>Pvt Ltd</td>\n",
              "      <td>2</td>\n",
              "      <td>17</td>\n",
              "    </tr>\n",
              "  </tbody>\n",
              "</table>\n",
              "</div>"
            ],
            "text/plain": [
              "       city  city_development_Index gender      relevent_experience  \\\n",
              "0  city_128                   0.527  Other  Has relevent experience   \n",
              "1  city_114                   0.926  Other  Has relevent experience   \n",
              "2  city_114                   0.926   Male  Has relevent experience   \n",
              "3   city_67                   0.855   Male  Has relevent experience   \n",
              "4  city_100                   0.887   Male  Has relevent experience   \n",
              "\n",
              "  enrolled_university education_level major_discipline  experience  \\\n",
              "0       no_enrollment        Graduate             STEM           4   \n",
              "1       no_enrollment        Graduate             STEM          16   \n",
              "2       no_enrollment        Graduate             STEM          12   \n",
              "3       no_enrollment        Graduate             STEM           0   \n",
              "4       no_enrollment        Graduate             STEM           2   \n",
              "\n",
              "   company_size company_type last_new_job  training_hours  \n",
              "0           3.0      Pvt Ltd            4              36  \n",
              "1           4.0      Pvt Ltd           >4               8  \n",
              "2           8.0      Pvt Ltd            4              35  \n",
              "3           NaN        Other            1              41  \n",
              "4           5.0      Pvt Ltd            2              17  "
            ]
          },
          "execution_count": 3,
          "metadata": {},
          "output_type": "execute_result"
        }
      ],
      "source": [
        "test_df = pd.read_csv('changingjob_testx.csv',index_col=0)\n",
        "test_df.drop('Unnamed: 0.1', axis=1,inplace=True)\n",
        "test_df.head()"
      ]
    },
    {
      "cell_type": "code",
      "execution_count": null,
      "metadata": {
        "id": "0SvUU55kHdKG",
        "outputId": "b665668c-7f59-4938-dfe3-a111a1efdd98"
      },
      "outputs": [
        {
          "data": {
            "text/plain": [
              "(400, 11)"
            ]
          },
          "execution_count": 4,
          "metadata": {},
          "output_type": "execute_result"
        }
      ],
      "source": [
        "test_df['major_discipline'].fillna('UH', inplace=True)\n",
        "test_df.drop('company_size', axis=1, inplace=True)\n",
        "test_df.shape"
      ]
    },
    {
      "cell_type": "code",
      "execution_count": null,
      "metadata": {
        "id": "KGJ-k3lNHdKH",
        "outputId": "ab33a8de-72f5-491b-c0d6-7762d6094280"
      },
      "outputs": [
        {
          "data": {
            "text/plain": [
              "(18126, 12)"
            ]
          },
          "execution_count": 5,
          "metadata": {},
          "output_type": "execute_result"
        }
      ],
      "source": [
        "training_df['major_discipline'].fillna('UH', inplace=True)\n",
        "training_df.drop('company_size', axis=1, inplace=True)\n",
        "training_df.shape"
      ]
    },
    {
      "cell_type": "code",
      "execution_count": null,
      "metadata": {
        "id": "BoNNNmdgHdKI"
      },
      "outputs": [],
      "source": [
        "from sklearn.preprocessing import LabelEncoder\n",
        "from sklearn.preprocessing import StandardScaler,MinMaxScaler"
      ]
    },
    {
      "cell_type": "code",
      "execution_count": null,
      "metadata": {
        "id": "rlsUluY9HdKJ"
      },
      "outputs": [],
      "source": [
        "#city\n",
        "lb_city = LabelEncoder()\n",
        "test_df['city'] = lb_city.fit_transform(test_df['city'])\n",
        "\n",
        "#gender\n",
        "map_class = {'Female':0, 'Other':1, 'Male':2}\n",
        "test_df[['gender']] = test_df[['gender']].applymap(map_class.get)\n",
        "\n",
        "#relevent_experience\n",
        "lb_relevent_experience = LabelEncoder()\n",
        "test_df['relevent_experience'] = lb_relevent_experience.fit_transform(test_df['relevent_experience'])\n",
        "\n",
        "#enrolled_university\n",
        "map_class = {'no_enrollment':0, 'Part time course':1, 'Full time course':2}\n",
        "test_df[['enrolled_university']] = test_df[['enrolled_university']].applymap(map_class.get)\n",
        "\n",
        "#education_level\n",
        "map_class = {'UH':0, 'Graduate':1, 'Masters':2, 'Phd':3}\n",
        "test_df[['education_level']] = test_df[['education_level']].applymap(map_class.get)\n",
        "\n",
        "#major_discipline\n",
        "map_class = {'UH':0, 'Other':1, 'Arts':2, 'Humanities':3, 'Business Degree':4, 'STEM':5}\n",
        "test_df[['major_discipline']] = test_df[['major_discipline']].applymap(map_class.get)\n",
        "\n",
        "#company_type\n",
        "map_class = {'Other':0,'Early Stage Startup':1, 'Funded Startup':2, 'Pvt Ltd':3, \n",
        "            'NGO':4, 'Public Sector':5}\n",
        "test_df[['company_type']] = test_df[['company_type']].applymap(map_class.get)\n",
        "\n",
        "#last_new_job\n",
        "map_class = {'never':0, '0':1,'1':2,'2':3, '3':4, '4':5, '>4':6 }\n",
        "test_df[['last_new_job']] = test_df[['last_new_job']].applymap(map_class.get)"
      ]
    },
    {
      "cell_type": "code",
      "execution_count": null,
      "metadata": {
        "id": "z7eiEdLnHdKK"
      },
      "outputs": [],
      "source": [
        "#city\n",
        "lb_city = LabelEncoder()\n",
        "training_df['city'] = lb_city.fit_transform(training_df['city'])\n",
        "\n",
        "#gender\n",
        "map_class = {'Female':0, 'Other':1, 'Male':2}\n",
        "training_df[['gender']] = training_df[['gender']].applymap(map_class.get)\n",
        "\n",
        "#relevent_experience\n",
        "lb_relevent_experience = LabelEncoder()\n",
        "training_df['relevent_experience'] = lb_relevent_experience.fit_transform(training_df['relevent_experience'])\n",
        "\n",
        "#enrolled_university\n",
        "map_class = {'no_enrollment':0, 'Part time course':1, 'Full time course':2}\n",
        "training_df[['enrolled_university']] = training_df[['enrolled_university']].applymap(map_class.get)\n",
        "\n",
        "#education_level\n",
        "map_class = {'UH':0, 'Graduate':1, 'Masters':2, 'Phd':3}\n",
        "training_df[['education_level']] = training_df[['education_level']].applymap(map_class.get)\n",
        "\n",
        "#major_discipline\n",
        "map_class = {'UH':0, 'Other':1, 'Arts':2, 'Humanities':3, 'Business Degree':4, 'STEM':5}\n",
        "training_df[['major_discipline']] = training_df[['major_discipline']].applymap(map_class.get)\n",
        "\n",
        "#company_type\n",
        "map_class = {'Other':0,'Early Stage Startup':1, 'Funded Startup':2, 'Pvt Ltd':3, \n",
        "            'NGO':4, 'Public Sector':5}\n",
        "training_df[['company_type']] = training_df[['company_type']].applymap(map_class.get)\n",
        "\n",
        "#last_new_job\n",
        "map_class = {'never':0, '0':1,'1':2,'2':3, '3':4, '4':5, '>4':6 }\n",
        "training_df[['last_new_job']] = training_df[['last_new_job']].applymap(map_class.get)"
      ]
    },
    {
      "cell_type": "code",
      "execution_count": null,
      "metadata": {
        "id": "hdsGHGeyHdKL",
        "outputId": "6565eeff-d2d5-41e0-c647-8281adf92d83"
      },
      "outputs": [
        {
          "name": "stdout",
          "output_type": "stream",
          "text": [
            "(18126, 11)\n",
            "(18126,)\n",
            "0의 개수 13639\n",
            "1의 개수 4487\n"
          ]
        }
      ],
      "source": [
        "X = changingjob_df.drop('target', axis=1)\n",
        "y = changingjob_df['target']\n",
        "print(X.shape)\n",
        "print(y.shape)\n",
        "print('0의 개수', sum(y==0))\n",
        "print('1의 개수', sum(y==1))"
      ]
    },
    {
      "cell_type": "code",
      "execution_count": null,
      "metadata": {
        "id": "Poz7YGQoHdKM",
        "outputId": "47f750ec-4c94-4521-94f8-048ab7c8811f"
      },
      "outputs": [
        {
          "name": "stdout",
          "output_type": "stream",
          "text": [
            "(16837, 11)\n",
            "(16837,)\n",
            "0의 개수 12350\n",
            "1의 개수 4487\n"
          ]
        }
      ],
      "source": [
        "from imblearn.under_sampling import *\n",
        "from imblearn.over_sampling import *\n",
        "from imblearn.combine import *\n",
        "\n",
        "X_resampled, y_resampled = TomekLinks().fit_resample(X,y)\n",
        "print(X_resampled.shape)\n",
        "print(y_resampled.shape)\n",
        "print('0의 개수', sum(y_resampled==0))\n",
        "print('1의 개수', sum(y_resampled==1))"
      ]
    },
    {
      "cell_type": "code",
      "execution_count": null,
      "metadata": {
        "id": "qYZWqByJHdKM",
        "outputId": "d494ff34-c584-4035-e48e-cd3bf723d802"
      },
      "outputs": [
        {
          "data": {
            "text/html": [
              "<div>\n",
              "<style scoped>\n",
              "    .dataframe tbody tr th:only-of-type {\n",
              "        vertical-align: middle;\n",
              "    }\n",
              "\n",
              "    .dataframe tbody tr th {\n",
              "        vertical-align: top;\n",
              "    }\n",
              "\n",
              "    .dataframe thead th {\n",
              "        text-align: right;\n",
              "    }\n",
              "</style>\n",
              "<table border=\"1\" class=\"dataframe\">\n",
              "  <thead>\n",
              "    <tr style=\"text-align: right;\">\n",
              "      <th></th>\n",
              "      <th>city</th>\n",
              "      <th>city_development_Index</th>\n",
              "      <th>gender</th>\n",
              "      <th>relevent_experience</th>\n",
              "      <th>enrolled_university</th>\n",
              "      <th>education_level</th>\n",
              "      <th>major_discipline</th>\n",
              "      <th>experience</th>\n",
              "      <th>company_type</th>\n",
              "      <th>last_new_job</th>\n",
              "      <th>training_hours</th>\n",
              "      <th>target</th>\n",
              "    </tr>\n",
              "  </thead>\n",
              "  <tbody>\n",
              "    <tr>\n",
              "      <th>0</th>\n",
              "      <td>5</td>\n",
              "      <td>0.920</td>\n",
              "      <td>2</td>\n",
              "      <td>0</td>\n",
              "      <td>0</td>\n",
              "      <td>1</td>\n",
              "      <td>5</td>\n",
              "      <td>30</td>\n",
              "      <td>0</td>\n",
              "      <td>2</td>\n",
              "      <td>36</td>\n",
              "      <td>1</td>\n",
              "    </tr>\n",
              "    <tr>\n",
              "      <th>1</th>\n",
              "      <td>77</td>\n",
              "      <td>0.776</td>\n",
              "      <td>2</td>\n",
              "      <td>1</td>\n",
              "      <td>0</td>\n",
              "      <td>1</td>\n",
              "      <td>5</td>\n",
              "      <td>15</td>\n",
              "      <td>3</td>\n",
              "      <td>6</td>\n",
              "      <td>47</td>\n",
              "      <td>0</td>\n",
              "    </tr>\n",
              "    <tr>\n",
              "      <th>2</th>\n",
              "      <td>64</td>\n",
              "      <td>0.624</td>\n",
              "      <td>1</td>\n",
              "      <td>1</td>\n",
              "      <td>2</td>\n",
              "      <td>1</td>\n",
              "      <td>5</td>\n",
              "      <td>5</td>\n",
              "      <td>0</td>\n",
              "      <td>0</td>\n",
              "      <td>83</td>\n",
              "      <td>0</td>\n",
              "    </tr>\n",
              "    <tr>\n",
              "      <th>3</th>\n",
              "      <td>50</td>\n",
              "      <td>0.767</td>\n",
              "      <td>2</td>\n",
              "      <td>0</td>\n",
              "      <td>0</td>\n",
              "      <td>2</td>\n",
              "      <td>5</td>\n",
              "      <td>30</td>\n",
              "      <td>2</td>\n",
              "      <td>5</td>\n",
              "      <td>8</td>\n",
              "      <td>0</td>\n",
              "    </tr>\n",
              "    <tr>\n",
              "      <th>4</th>\n",
              "      <td>57</td>\n",
              "      <td>0.764</td>\n",
              "      <td>1</td>\n",
              "      <td>0</td>\n",
              "      <td>1</td>\n",
              "      <td>1</td>\n",
              "      <td>5</td>\n",
              "      <td>11</td>\n",
              "      <td>0</td>\n",
              "      <td>2</td>\n",
              "      <td>24</td>\n",
              "      <td>1</td>\n",
              "    </tr>\n",
              "    <tr>\n",
              "      <th>...</th>\n",
              "      <td>...</td>\n",
              "      <td>...</td>\n",
              "      <td>...</td>\n",
              "      <td>...</td>\n",
              "      <td>...</td>\n",
              "      <td>...</td>\n",
              "      <td>...</td>\n",
              "      <td>...</td>\n",
              "      <td>...</td>\n",
              "      <td>...</td>\n",
              "      <td>...</td>\n",
              "      <td>...</td>\n",
              "    </tr>\n",
              "    <tr>\n",
              "      <th>16832</th>\n",
              "      <td>5</td>\n",
              "      <td>0.920</td>\n",
              "      <td>0</td>\n",
              "      <td>1</td>\n",
              "      <td>0</td>\n",
              "      <td>3</td>\n",
              "      <td>5</td>\n",
              "      <td>17</td>\n",
              "      <td>4</td>\n",
              "      <td>5</td>\n",
              "      <td>16</td>\n",
              "      <td>0</td>\n",
              "    </tr>\n",
              "    <tr>\n",
              "      <th>16833</th>\n",
              "      <td>64</td>\n",
              "      <td>0.624</td>\n",
              "      <td>1</td>\n",
              "      <td>1</td>\n",
              "      <td>2</td>\n",
              "      <td>0</td>\n",
              "      <td>0</td>\n",
              "      <td>9</td>\n",
              "      <td>0</td>\n",
              "      <td>2</td>\n",
              "      <td>68</td>\n",
              "      <td>1</td>\n",
              "    </tr>\n",
              "    <tr>\n",
              "      <th>16834</th>\n",
              "      <td>5</td>\n",
              "      <td>0.920</td>\n",
              "      <td>2</td>\n",
              "      <td>0</td>\n",
              "      <td>0</td>\n",
              "      <td>2</td>\n",
              "      <td>5</td>\n",
              "      <td>30</td>\n",
              "      <td>3</td>\n",
              "      <td>6</td>\n",
              "      <td>110</td>\n",
              "      <td>0</td>\n",
              "    </tr>\n",
              "    <tr>\n",
              "      <th>16835</th>\n",
              "      <td>103</td>\n",
              "      <td>0.939</td>\n",
              "      <td>2</td>\n",
              "      <td>0</td>\n",
              "      <td>0</td>\n",
              "      <td>2</td>\n",
              "      <td>5</td>\n",
              "      <td>14</td>\n",
              "      <td>3</td>\n",
              "      <td>2</td>\n",
              "      <td>82</td>\n",
              "      <td>0</td>\n",
              "    </tr>\n",
              "    <tr>\n",
              "      <th>16836</th>\n",
              "      <td>89</td>\n",
              "      <td>0.866</td>\n",
              "      <td>2</td>\n",
              "      <td>1</td>\n",
              "      <td>0</td>\n",
              "      <td>1</td>\n",
              "      <td>5</td>\n",
              "      <td>10</td>\n",
              "      <td>0</td>\n",
              "      <td>2</td>\n",
              "      <td>50</td>\n",
              "      <td>0</td>\n",
              "    </tr>\n",
              "  </tbody>\n",
              "</table>\n",
              "<p>16837 rows × 12 columns</p>\n",
              "</div>"
            ],
            "text/plain": [
              "       city  city_development_Index  gender  relevent_experience  \\\n",
              "0         5                   0.920       2                    0   \n",
              "1        77                   0.776       2                    1   \n",
              "2        64                   0.624       1                    1   \n",
              "3        50                   0.767       2                    0   \n",
              "4        57                   0.764       1                    0   \n",
              "...     ...                     ...     ...                  ...   \n",
              "16832     5                   0.920       0                    1   \n",
              "16833    64                   0.624       1                    1   \n",
              "16834     5                   0.920       2                    0   \n",
              "16835   103                   0.939       2                    0   \n",
              "16836    89                   0.866       2                    1   \n",
              "\n",
              "       enrolled_university  education_level  major_discipline  experience  \\\n",
              "0                        0                1                 5          30   \n",
              "1                        0                1                 5          15   \n",
              "2                        2                1                 5           5   \n",
              "3                        0                2                 5          30   \n",
              "4                        1                1                 5          11   \n",
              "...                    ...              ...               ...         ...   \n",
              "16832                    0                3                 5          17   \n",
              "16833                    2                0                 0           9   \n",
              "16834                    0                2                 5          30   \n",
              "16835                    0                2                 5          14   \n",
              "16836                    0                1                 5          10   \n",
              "\n",
              "       company_type  last_new_job  training_hours  target  \n",
              "0                 0             2              36       1  \n",
              "1                 3             6              47       0  \n",
              "2                 0             0              83       0  \n",
              "3                 2             5               8       0  \n",
              "4                 0             2              24       1  \n",
              "...             ...           ...             ...     ...  \n",
              "16832             4             5              16       0  \n",
              "16833             0             2              68       1  \n",
              "16834             3             6             110       0  \n",
              "16835             3             2              82       0  \n",
              "16836             0             2              50       0  \n",
              "\n",
              "[16837 rows x 12 columns]"
            ]
          },
          "execution_count": 11,
          "metadata": {},
          "output_type": "execute_result"
        }
      ],
      "source": [
        "training_df = X_resampled.join(y_resampled)\n",
        "training_df"
      ]
    },
    {
      "cell_type": "code",
      "execution_count": null,
      "metadata": {
        "id": "1AAoVGm9HdKM"
      },
      "outputs": [],
      "source": [
        "features = ['city_development_Index', 'company_type', 'experience', 'enrolled_university', 'relevent_experience']\n",
        "X_train = training_df[features]\n",
        "X_test = test_df[features]\n",
        "y_train = training_df['target']"
      ]
    },
    {
      "cell_type": "code",
      "execution_count": null,
      "metadata": {
        "id": "89p40N3DHdKN"
      },
      "outputs": [],
      "source": [
        "from sklearn.preprocessing import MinMaxScaler, StandardScaler\n",
        "scaler = MinMaxScaler()\n",
        "X_train = scaler.fit_transform(X_train)\n",
        "X_test = scaler.fit_transform(X_test)"
      ]
    },
    {
      "cell_type": "code",
      "execution_count": null,
      "metadata": {
        "id": "R73PMPQ3HdKN"
      },
      "outputs": [],
      "source": [
        "svc = SVC(kernel='rbf',random_state=10)\n",
        "rand_list = {'C': stats.uniform(1,20),\n",
        "            'gamma': stats.uniform(1,10)}"
      ]
    },
    {
      "cell_type": "code",
      "execution_count": null,
      "metadata": {
        "id": "VFNBj6J6HdKN",
        "outputId": "234a0d56-19b9-4c95-92cd-0cc17b7fe71f"
      },
      "outputs": [
        {
          "name": "stdout",
          "output_type": "stream",
          "text": [
            "{'C': 11.495454954826783, 'gamma': 6.081990365728907}\n"
          ]
        }
      ],
      "source": [
        "rand_search = RandomizedSearchCV(svc, param_distributions=rand_list, n_iter=20,n_jobs=4, \n",
        "                                 cv=3, scoring='accuracy')\n",
        "rand_search.fit(X_train, y_train)\n",
        "print(rand_search.best_params_)"
      ]
    },
    {
      "cell_type": "code",
      "execution_count": null,
      "metadata": {
        "id": "kd81HAsqHdKO",
        "outputId": "c8c24c19-38cc-472f-ce3e-5447cc6e0f43"
      },
      "outputs": [
        {
          "name": "stdout",
          "output_type": "stream",
          "text": [
            "C: 11.5\n",
            "gamma 6.08\n"
          ]
        }
      ],
      "source": [
        "C = round(rand_search.best_params_['C'],2)\n",
        "gamma = round(rand_search.best_params_['gamma'],2)\n",
        "print(\"C:\",C)\n",
        "print(\"gamma\",gamma)\n",
        "svm_clf_r = SVC(kernel='rbf',C=C, gamma=gamma)\n",
        "svm_clf_r.fit(X_train, y_train)\n",
        "prediction = svm_clf_r.predict(X_test)"
      ]
    },
    {
      "cell_type": "code",
      "execution_count": null,
      "metadata": {
        "id": "SZyZEW4WHdKO"
      },
      "outputs": [],
      "source": [
        "y_pred = pd.DataFrame(prediction)\n",
        "y_pred.columns =['target']\n",
        "y_pred['index'] = y_pred.index\n",
        "y_pred = y_pred[['index', 'target']]\n",
        "\n",
        "y_pred.to_csv(\"test7.csv\", header=True, index=False)"
      ]
    }
  ],
  "metadata": {
    "kernelspec": {
      "display_name": "Python 3",
      "language": "python",
      "name": "python3"
    },
    "language_info": {
      "codemirror_mode": {
        "name": "ipython",
        "version": 3
      },
      "file_extension": ".py",
      "mimetype": "text/x-python",
      "name": "python",
      "nbconvert_exporter": "python",
      "pygments_lexer": "ipython3",
      "version": "3.8.5"
    },
    "colab": {
      "provenance": []
    }
  },
  "nbformat": 4,
  "nbformat_minor": 0
}