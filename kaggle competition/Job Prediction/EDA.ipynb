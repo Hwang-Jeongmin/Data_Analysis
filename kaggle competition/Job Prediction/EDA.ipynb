{
  "cells": [
    {
      "cell_type": "markdown",
      "metadata": {
        "id": "ctYFC_srGWEj"
      },
      "source": [
        "## 데이터 불러오기"
      ]
    },
    {
      "cell_type": "code",
      "execution_count": null,
      "metadata": {
        "id": "dIEKBmNdGWEn"
      },
      "outputs": [],
      "source": [
        "import pandas as pd\n",
        "import numpy as np"
      ]
    },
    {
      "cell_type": "code",
      "execution_count": null,
      "metadata": {
        "id": "X786yxDBGWEo"
      },
      "outputs": [],
      "source": [
        "changingjob_df = pd.read_csv('changingjob_train.csv',index_col=0)\n",
        "changingjob_df.drop('Unnamed: 0.1', axis=1,inplace=True)"
      ]
    },
    {
      "cell_type": "code",
      "execution_count": null,
      "metadata": {
        "id": "mNFQPkncGWEp",
        "outputId": "5883a9b3-a440-4bb1-8306-4ebe72b2d3cd"
      },
      "outputs": [
        {
          "data": {
            "text/html": [
              "<div>\n",
              "<style scoped>\n",
              "    .dataframe tbody tr th:only-of-type {\n",
              "        vertical-align: middle;\n",
              "    }\n",
              "\n",
              "    .dataframe tbody tr th {\n",
              "        vertical-align: top;\n",
              "    }\n",
              "\n",
              "    .dataframe thead th {\n",
              "        text-align: right;\n",
              "    }\n",
              "</style>\n",
              "<table border=\"1\" class=\"dataframe\">\n",
              "  <thead>\n",
              "    <tr style=\"text-align: right;\">\n",
              "      <th></th>\n",
              "      <th>city</th>\n",
              "      <th>city_development_Index</th>\n",
              "      <th>gender</th>\n",
              "      <th>relevent_experience</th>\n",
              "      <th>enrolled_university</th>\n",
              "      <th>education_level</th>\n",
              "      <th>major_discipline</th>\n",
              "      <th>experience</th>\n",
              "      <th>company_size</th>\n",
              "      <th>company_type</th>\n",
              "      <th>last_new_job</th>\n",
              "      <th>training_hours</th>\n",
              "      <th>target</th>\n",
              "    </tr>\n",
              "  </thead>\n",
              "  <tbody>\n",
              "    <tr>\n",
              "      <th>0</th>\n",
              "      <td>city_103</td>\n",
              "      <td>0.920</td>\n",
              "      <td>Male</td>\n",
              "      <td>Has relevent experience</td>\n",
              "      <td>no_enrollment</td>\n",
              "      <td>Graduate</td>\n",
              "      <td>STEM</td>\n",
              "      <td>30</td>\n",
              "      <td>NaN</td>\n",
              "      <td>Other</td>\n",
              "      <td>1</td>\n",
              "      <td>36</td>\n",
              "      <td>1</td>\n",
              "    </tr>\n",
              "    <tr>\n",
              "      <th>1</th>\n",
              "      <td>city_40</td>\n",
              "      <td>0.776</td>\n",
              "      <td>Male</td>\n",
              "      <td>No relevent experience</td>\n",
              "      <td>no_enrollment</td>\n",
              "      <td>Graduate</td>\n",
              "      <td>STEM</td>\n",
              "      <td>15</td>\n",
              "      <td>3.0</td>\n",
              "      <td>Pvt Ltd</td>\n",
              "      <td>&gt;4</td>\n",
              "      <td>47</td>\n",
              "      <td>0</td>\n",
              "    </tr>\n",
              "    <tr>\n",
              "      <th>2</th>\n",
              "      <td>city_21</td>\n",
              "      <td>0.624</td>\n",
              "      <td>Other</td>\n",
              "      <td>No relevent experience</td>\n",
              "      <td>Full time course</td>\n",
              "      <td>Graduate</td>\n",
              "      <td>STEM</td>\n",
              "      <td>5</td>\n",
              "      <td>NaN</td>\n",
              "      <td>Other</td>\n",
              "      <td>never</td>\n",
              "      <td>83</td>\n",
              "      <td>0</td>\n",
              "    </tr>\n",
              "    <tr>\n",
              "      <th>3</th>\n",
              "      <td>city_162</td>\n",
              "      <td>0.767</td>\n",
              "      <td>Male</td>\n",
              "      <td>Has relevent experience</td>\n",
              "      <td>no_enrollment</td>\n",
              "      <td>Masters</td>\n",
              "      <td>STEM</td>\n",
              "      <td>30</td>\n",
              "      <td>3.0</td>\n",
              "      <td>Funded Startup</td>\n",
              "      <td>4</td>\n",
              "      <td>8</td>\n",
              "      <td>0</td>\n",
              "    </tr>\n",
              "    <tr>\n",
              "      <th>4</th>\n",
              "      <td>city_176</td>\n",
              "      <td>0.764</td>\n",
              "      <td>Other</td>\n",
              "      <td>Has relevent experience</td>\n",
              "      <td>Part time course</td>\n",
              "      <td>Graduate</td>\n",
              "      <td>STEM</td>\n",
              "      <td>11</td>\n",
              "      <td>NaN</td>\n",
              "      <td>Other</td>\n",
              "      <td>1</td>\n",
              "      <td>24</td>\n",
              "      <td>1</td>\n",
              "    </tr>\n",
              "  </tbody>\n",
              "</table>\n",
              "</div>"
            ],
            "text/plain": [
              "       city  city_development_Index gender      relevent_experience  \\\n",
              "0  city_103                   0.920   Male  Has relevent experience   \n",
              "1   city_40                   0.776   Male   No relevent experience   \n",
              "2   city_21                   0.624  Other   No relevent experience   \n",
              "3  city_162                   0.767   Male  Has relevent experience   \n",
              "4  city_176                   0.764  Other  Has relevent experience   \n",
              "\n",
              "  enrolled_university education_level major_discipline  experience  \\\n",
              "0       no_enrollment        Graduate             STEM          30   \n",
              "1       no_enrollment        Graduate             STEM          15   \n",
              "2    Full time course        Graduate             STEM           5   \n",
              "3       no_enrollment         Masters             STEM          30   \n",
              "4    Part time course        Graduate             STEM          11   \n",
              "\n",
              "   company_size    company_type last_new_job  training_hours  target  \n",
              "0           NaN           Other            1              36       1  \n",
              "1           3.0         Pvt Ltd           >4              47       0  \n",
              "2           NaN           Other        never              83       0  \n",
              "3           3.0  Funded Startup            4               8       0  \n",
              "4           NaN           Other            1              24       1  "
            ]
          },
          "execution_count": 3,
          "metadata": {},
          "output_type": "execute_result"
        }
      ],
      "source": [
        "changingjob_df.head()"
      ]
    },
    {
      "cell_type": "code",
      "execution_count": null,
      "metadata": {
        "id": "HMi0LFu8GWEq",
        "outputId": "31253dc1-56db-44fb-ef5c-00c1dc7568af"
      },
      "outputs": [
        {
          "data": {
            "text/plain": [
              "(18126, 13)"
            ]
          },
          "execution_count": 4,
          "metadata": {},
          "output_type": "execute_result"
        }
      ],
      "source": [
        "changingjob_df.shape"
      ]
    },
    {
      "cell_type": "code",
      "execution_count": null,
      "metadata": {
        "id": "bjxE2NMDGWEq",
        "outputId": "d9725549-7f2b-4487-922b-0da87c8e0bd0"
      },
      "outputs": [
        {
          "name": "stdout",
          "output_type": "stream",
          "text": [
            "<class 'pandas.core.frame.DataFrame'>\n",
            "Int64Index: 18126 entries, 0 to 18125\n",
            "Data columns (total 13 columns):\n",
            " #   Column                  Non-Null Count  Dtype  \n",
            "---  ------                  --------------  -----  \n",
            " 0   city                    18126 non-null  object \n",
            " 1   city_development_Index  18126 non-null  float64\n",
            " 2   gender                  18126 non-null  object \n",
            " 3   relevent_experience     18126 non-null  object \n",
            " 4   enrolled_university     18126 non-null  object \n",
            " 5   education_level         18126 non-null  object \n",
            " 6   major_discipline        15554 non-null  object \n",
            " 7   experience              18126 non-null  int64  \n",
            " 8   company_size            12629 non-null  float64\n",
            " 9   company_type            18126 non-null  object \n",
            " 10  last_new_job            18126 non-null  object \n",
            " 11  training_hours          18126 non-null  int64  \n",
            " 12  target                  18126 non-null  int64  \n",
            "dtypes: float64(2), int64(3), object(8)\n",
            "memory usage: 1.9+ MB\n"
          ]
        }
      ],
      "source": [
        "changingjob_df.info()"
      ]
    },
    {
      "cell_type": "code",
      "execution_count": null,
      "metadata": {
        "id": "tCpq6zgmGWEr",
        "outputId": "d675705e-6774-4e17-a9c0-ee87148843f4"
      },
      "outputs": [
        {
          "data": {
            "text/html": [
              "<div>\n",
              "<style scoped>\n",
              "    .dataframe tbody tr th:only-of-type {\n",
              "        vertical-align: middle;\n",
              "    }\n",
              "\n",
              "    .dataframe tbody tr th {\n",
              "        vertical-align: top;\n",
              "    }\n",
              "\n",
              "    .dataframe thead th {\n",
              "        text-align: right;\n",
              "    }\n",
              "</style>\n",
              "<table border=\"1\" class=\"dataframe\">\n",
              "  <thead>\n",
              "    <tr style=\"text-align: right;\">\n",
              "      <th></th>\n",
              "      <th>city_development_Index</th>\n",
              "      <th>experience</th>\n",
              "      <th>company_size</th>\n",
              "      <th>training_hours</th>\n",
              "      <th>target</th>\n",
              "    </tr>\n",
              "  </thead>\n",
              "  <tbody>\n",
              "    <tr>\n",
              "      <th>count</th>\n",
              "      <td>18126.000000</td>\n",
              "      <td>18126.000000</td>\n",
              "      <td>12629.000000</td>\n",
              "      <td>18126.000000</td>\n",
              "      <td>18126.000000</td>\n",
              "    </tr>\n",
              "    <tr>\n",
              "      <th>mean</th>\n",
              "      <td>0.829833</td>\n",
              "      <td>11.717533</td>\n",
              "      <td>4.258453</td>\n",
              "      <td>65.317941</td>\n",
              "      <td>0.247545</td>\n",
              "    </tr>\n",
              "    <tr>\n",
              "      <th>std</th>\n",
              "      <td>0.122993</td>\n",
              "      <td>9.544217</td>\n",
              "      <td>2.192552</td>\n",
              "      <td>60.010273</td>\n",
              "      <td>0.431598</td>\n",
              "    </tr>\n",
              "    <tr>\n",
              "      <th>min</th>\n",
              "      <td>0.448000</td>\n",
              "      <td>0.000000</td>\n",
              "      <td>1.000000</td>\n",
              "      <td>1.000000</td>\n",
              "      <td>0.000000</td>\n",
              "    </tr>\n",
              "    <tr>\n",
              "      <th>25%</th>\n",
              "      <td>0.743000</td>\n",
              "      <td>4.000000</td>\n",
              "      <td>3.000000</td>\n",
              "      <td>23.000000</td>\n",
              "      <td>0.000000</td>\n",
              "    </tr>\n",
              "    <tr>\n",
              "      <th>50%</th>\n",
              "      <td>0.910000</td>\n",
              "      <td>9.000000</td>\n",
              "      <td>4.000000</td>\n",
              "      <td>47.000000</td>\n",
              "      <td>0.000000</td>\n",
              "    </tr>\n",
              "    <tr>\n",
              "      <th>75%</th>\n",
              "      <td>0.920000</td>\n",
              "      <td>16.000000</td>\n",
              "      <td>6.000000</td>\n",
              "      <td>88.000000</td>\n",
              "      <td>0.000000</td>\n",
              "    </tr>\n",
              "    <tr>\n",
              "      <th>max</th>\n",
              "      <td>0.949000</td>\n",
              "      <td>30.000000</td>\n",
              "      <td>8.000000</td>\n",
              "      <td>336.000000</td>\n",
              "      <td>1.000000</td>\n",
              "    </tr>\n",
              "  </tbody>\n",
              "</table>\n",
              "</div>"
            ],
            "text/plain": [
              "       city_development_Index    experience  company_size  training_hours  \\\n",
              "count            18126.000000  18126.000000  12629.000000    18126.000000   \n",
              "mean                 0.829833     11.717533      4.258453       65.317941   \n",
              "std                  0.122993      9.544217      2.192552       60.010273   \n",
              "min                  0.448000      0.000000      1.000000        1.000000   \n",
              "25%                  0.743000      4.000000      3.000000       23.000000   \n",
              "50%                  0.910000      9.000000      4.000000       47.000000   \n",
              "75%                  0.920000     16.000000      6.000000       88.000000   \n",
              "max                  0.949000     30.000000      8.000000      336.000000   \n",
              "\n",
              "             target  \n",
              "count  18126.000000  \n",
              "mean       0.247545  \n",
              "std        0.431598  \n",
              "min        0.000000  \n",
              "25%        0.000000  \n",
              "50%        0.000000  \n",
              "75%        0.000000  \n",
              "max        1.000000  "
            ]
          },
          "execution_count": 6,
          "metadata": {},
          "output_type": "execute_result"
        }
      ],
      "source": [
        "changingjob_df.describe()"
      ]
    },
    {
      "cell_type": "code",
      "execution_count": null,
      "metadata": {
        "id": "blgIX5VuGWEr",
        "outputId": "df77ecd7-c983-4f0e-dcb2-042a648662f9"
      },
      "outputs": [
        {
          "data": {
            "text/plain": [
              "city                         0\n",
              "city_development_Index       0\n",
              "gender                       0\n",
              "relevent_experience          0\n",
              "enrolled_university          0\n",
              "education_level              0\n",
              "major_discipline          2572\n",
              "experience                   0\n",
              "company_size              5497\n",
              "company_type                 0\n",
              "last_new_job                 0\n",
              "training_hours               0\n",
              "target                       0\n",
              "dtype: int64"
            ]
          },
          "execution_count": 7,
          "metadata": {},
          "output_type": "execute_result"
        }
      ],
      "source": [
        "changingjob_df.isnull().sum()"
      ]
    },
    {
      "cell_type": "code",
      "execution_count": null,
      "metadata": {
        "id": "1xjSlFeMGWEs",
        "outputId": "bd7310dd-648a-42a9-bccf-bf27cf931142"
      },
      "outputs": [
        {
          "data": {
            "text/plain": [
              "Graduate    10962\n",
              "Masters      4189\n",
              "UH           2572\n",
              "Phd           403\n",
              "Name: education_level, dtype: int64"
            ]
          },
          "execution_count": 8,
          "metadata": {},
          "output_type": "execute_result"
        }
      ],
      "source": [
        "changingjob_df['education_level'].value_counts(dropna=False)"
      ]
    },
    {
      "cell_type": "code",
      "execution_count": null,
      "metadata": {
        "id": "V4vfnHyjGWEt",
        "outputId": "aa1e8946-12a4-48c4-8f92-11fad44bdcec"
      },
      "outputs": [
        {
          "data": {
            "text/plain": [
              "Has relevent experience    13135\n",
              "No relevent experience      4991\n",
              "Name: relevent_experience, dtype: int64"
            ]
          },
          "execution_count": 9,
          "metadata": {},
          "output_type": "execute_result"
        }
      ],
      "source": [
        "changingjob_df['relevent_experience'].value_counts(dropna=False)"
      ]
    },
    {
      "cell_type": "code",
      "execution_count": null,
      "metadata": {
        "id": "fVkJwlOAGWEt",
        "outputId": "9e0864e2-9a4d-4871-e39d-93cd53c55bc4"
      },
      "outputs": [
        {
          "data": {
            "text/plain": [
              "no_enrollment       13314\n",
              "Full time course     3650\n",
              "Part time course     1162\n",
              "Name: enrolled_university, dtype: int64"
            ]
          },
          "execution_count": 10,
          "metadata": {},
          "output_type": "execute_result"
        }
      ],
      "source": [
        "changingjob_df['enrolled_university'].value_counts(dropna=False)"
      ]
    },
    {
      "cell_type": "code",
      "execution_count": null,
      "metadata": {
        "id": "BqFNgRnSGWEu",
        "outputId": "5b8d1ad8-de39-46a1-8e7c-c46efe7b8a98"
      },
      "outputs": [
        {
          "data": {
            "text/plain": [
              "STEM               13980\n",
              "NaN                 2572\n",
              "Humanities           650\n",
              "Other                369\n",
              "Business Degree      314\n",
              "Arts                 241\n",
              "Name: major_discipline, dtype: int64"
            ]
          },
          "execution_count": 11,
          "metadata": {},
          "output_type": "execute_result"
        }
      ],
      "source": [
        "# UH(under highschool)인 사람들은 전공이 없으므로 NaN으로 처리되었다\n",
        "changingjob_df['major_discipline'].value_counts(dropna=False)"
      ]
    },
    {
      "cell_type": "code",
      "execution_count": null,
      "metadata": {
        "id": "uto4uYyTGWEu",
        "outputId": "64729c0f-544c-41f1-9f45-816e8570feb0"
      },
      "outputs": [
        {
          "data": {
            "text/plain": [
              "NaN    5497\n",
              "3.0    2934\n",
              "4.0    2465\n",
              "8.0    1941\n",
              "2.0    1405\n",
              "6.0    1264\n",
              "1.0    1245\n",
              "5.0     837\n",
              "7.0     538\n",
              "Name: company_size, dtype: int64"
            ]
          },
          "execution_count": 12,
          "metadata": {},
          "output_type": "execute_result"
        }
      ],
      "source": [
        "changingjob_df['company_size'].value_counts(dropna=False)"
      ]
    },
    {
      "cell_type": "code",
      "execution_count": null,
      "metadata": {
        "id": "XVu0rT8wGWEv",
        "outputId": "332a80d9-0068-45b9-f210-eaec1b0828ca"
      },
      "outputs": [
        {
          "name": "stdout",
          "output_type": "stream",
          "text": [
            "city_103    4148\n",
            "city_21     2533\n",
            "city_16     1449\n",
            "city_114    1270\n",
            "city_160     816\n",
            "            ... \n",
            "city_8         3\n",
            "city_111       3\n",
            "city_82        3\n",
            "city_171       1\n",
            "city_140       1\n",
            "Name: city, Length: 123, dtype: int64\n",
            "123\n"
          ]
        }
      ],
      "source": [
        "print(changingjob_df['city'].value_counts(dropna=False))\n",
        "print(len(changingjob_df['city'].unique()))"
      ]
    },
    {
      "cell_type": "code",
      "execution_count": null,
      "metadata": {
        "id": "xckjYUDeGWEv",
        "outputId": "719d2622-ddeb-43b2-b975-696a960de9f7"
      },
      "outputs": [
        {
          "data": {
            "text/plain": [
              "Pvt Ltd                9373\n",
              "Other                  5805\n",
              "Funded Startup          973\n",
              "Public Sector           911\n",
              "Early Stage Startup     569\n",
              "NGO                     495\n",
              "Name: company_type, dtype: int64"
            ]
          },
          "execution_count": 14,
          "metadata": {},
          "output_type": "execute_result"
        }
      ],
      "source": [
        "changingjob_df['company_type'].value_counts(dropna=False)"
      ]
    },
    {
      "cell_type": "code",
      "execution_count": null,
      "metadata": {
        "id": "WCtvFuBMGWEv",
        "outputId": "4ce1e114-2034-41cb-8e79-89356904800d"
      },
      "outputs": [
        {
          "data": {
            "text/plain": [
              "1        7642\n",
              ">4       3139\n",
              "2        2782\n",
              "never    2244\n",
              "4         985\n",
              "3         964\n",
              "0         370\n",
              "Name: last_new_job, dtype: int64"
            ]
          },
          "execution_count": 15,
          "metadata": {},
          "output_type": "execute_result"
        }
      ],
      "source": [
        "changingjob_df['last_new_job'].value_counts(dropna=False)"
      ]
    },
    {
      "cell_type": "markdown",
      "metadata": {
        "id": "sZXs3-5UGWEw"
      },
      "source": [
        "### 데이터 전처리"
      ]
    },
    {
      "cell_type": "markdown",
      "metadata": {
        "id": "G77IPIaeGWEw"
      },
      "source": [
        "### 결측치 처리"
      ]
    },
    {
      "cell_type": "code",
      "execution_count": null,
      "metadata": {
        "id": "QZuBhNGBGWEw"
      },
      "outputs": [],
      "source": [
        "#major_discipline이 없는 경우 UH로 치환한다\n",
        "changingjob_df['major_discipline'].fillna('UH', inplace=True)"
      ]
    },
    {
      "cell_type": "code",
      "execution_count": null,
      "metadata": {
        "id": "iXWGn4BwGWEx"
      },
      "outputs": [],
      "source": [
        "#company_size는 결측치가 너무 많으므로 열을 삭제\n",
        "changingjob_df.drop('company_size', axis=1, inplace=True)"
      ]
    },
    {
      "cell_type": "code",
      "execution_count": null,
      "metadata": {
        "id": "PB974-RDGWEx",
        "outputId": "4b0d4140-ed8a-485a-bfe6-9de6e2e6cc45"
      },
      "outputs": [
        {
          "data": {
            "text/plain": [
              "(18126, 12)"
            ]
          },
          "execution_count": 18,
          "metadata": {},
          "output_type": "execute_result"
        }
      ],
      "source": [
        "changingjob_df.shape"
      ]
    },
    {
      "cell_type": "markdown",
      "metadata": {
        "id": "X8WjEJ2zGWEx"
      },
      "source": [
        "### 범주형 데이터 처리"
      ]
    },
    {
      "cell_type": "code",
      "execution_count": null,
      "metadata": {
        "id": "y-07pqBIGWEx"
      },
      "outputs": [],
      "source": [
        "#각각의 변수의 특징들을 고려하여 범주형 데이터를 처리"
      ]
    },
    {
      "cell_type": "code",
      "execution_count": null,
      "metadata": {
        "id": "EaWwnJJ1GWEy"
      },
      "outputs": [],
      "source": [
        "from sklearn.preprocessing import LabelEncoder\n",
        "from sklearn.preprocessing import StandardScaler"
      ]
    },
    {
      "cell_type": "code",
      "execution_count": null,
      "metadata": {
        "id": "WVSqFyfGGWEy"
      },
      "outputs": [],
      "source": [
        "#city\n",
        "lb_city = LabelEncoder()\n",
        "changingjob_df['city'] = lb_city.fit_transform(changingjob_df['city'])"
      ]
    },
    {
      "cell_type": "code",
      "execution_count": null,
      "metadata": {
        "id": "TQadJxoRGWEy"
      },
      "outputs": [],
      "source": [
        "#gender\n",
        "map_class = {'Female':0, 'Other':1, 'Male':2}\n",
        "changingjob_df[['gender']] = changingjob_df[['gender']].applymap(map_class.get)"
      ]
    },
    {
      "cell_type": "code",
      "execution_count": null,
      "metadata": {
        "id": "xTGA_3xpGWEy"
      },
      "outputs": [],
      "source": [
        "lb_relevent_experience = LabelEncoder()\n",
        "changingjob_df['relevent_experience'] = lb_relevent_experience.fit_transform(changingjob_df['relevent_experience'])"
      ]
    },
    {
      "cell_type": "code",
      "execution_count": null,
      "metadata": {
        "id": "zBU-POT0GWEy"
      },
      "outputs": [],
      "source": [
        "#enrolled_university\n",
        "map_class = {'no_enrollment':0, 'Part time course':1, 'Full time course':2}\n",
        "changingjob_df[['enrolled_university']] = changingjob_df[['enrolled_university']].applymap(map_class.get)"
      ]
    },
    {
      "cell_type": "code",
      "execution_count": null,
      "metadata": {
        "id": "waOAgc-vGWEz"
      },
      "outputs": [],
      "source": [
        "#education_level\n",
        "map_class = {'UH':0, 'Graduate':1, 'Masters':2, 'Phd':3}\n",
        "changingjob_df[['education_level']] = changingjob_df[['education_level']].applymap(map_class.get)"
      ]
    },
    {
      "cell_type": "code",
      "execution_count": null,
      "metadata": {
        "id": "LkBUkMEEGWEz"
      },
      "outputs": [],
      "source": [
        "#major_discipline\n",
        "map_class = {'UH':0, 'Other':1, 'Arts':2, 'Humanities':3, 'Business Degree':4, 'STEM':5}\n",
        "changingjob_df[['major_discipline']] = changingjob_df[['major_discipline']].applymap(map_class.get)"
      ]
    },
    {
      "cell_type": "code",
      "execution_count": null,
      "metadata": {
        "id": "yA0Fuc7nGWEz"
      },
      "outputs": [],
      "source": [
        "#company_type\n",
        "map_class = {'Other':0,'Early Stage Startup':1, 'Funded Startup':2, 'Pvt Ltd':3, \n",
        "            'NGO':4, 'Public Sector':5}\n",
        "changingjob_df[['company_type']] = changingjob_df[['company_type']].applymap(map_class.get)"
      ]
    },
    {
      "cell_type": "code",
      "execution_count": null,
      "metadata": {
        "id": "L-Ar5JHyGWEz"
      },
      "outputs": [],
      "source": [
        "#last_new_job\n",
        "map_class = {'never':0, '0':1,'1':2,'2':3, '3':4, '4':5, '>4':6 }\n",
        "changingjob_df[['last_new_job']] = changingjob_df[['last_new_job']].applymap(map_class.get)"
      ]
    },
    {
      "cell_type": "code",
      "execution_count": null,
      "metadata": {
        "id": "TcpG6zA6GWE0",
        "outputId": "c0689ded-bdaa-42dd-ef11-4f0e054dd682"
      },
      "outputs": [
        {
          "data": {
            "text/plain": [
              "city                      0\n",
              "city_development_Index    0\n",
              "gender                    0\n",
              "relevent_experience       0\n",
              "enrolled_university       0\n",
              "education_level           0\n",
              "major_discipline          0\n",
              "experience                0\n",
              "company_type              0\n",
              "last_new_job              0\n",
              "training_hours            0\n",
              "target                    0\n",
              "dtype: int64"
            ]
          },
          "execution_count": 29,
          "metadata": {},
          "output_type": "execute_result"
        }
      ],
      "source": [
        "changingjob_df.isnull().sum()"
      ]
    },
    {
      "cell_type": "code",
      "execution_count": null,
      "metadata": {
        "id": "hrlXVaY3GWE0",
        "outputId": "1b95404f-eea6-44fc-98dc-e1be44c139ee"
      },
      "outputs": [
        {
          "data": {
            "text/html": [
              "<div>\n",
              "<style scoped>\n",
              "    .dataframe tbody tr th:only-of-type {\n",
              "        vertical-align: middle;\n",
              "    }\n",
              "\n",
              "    .dataframe tbody tr th {\n",
              "        vertical-align: top;\n",
              "    }\n",
              "\n",
              "    .dataframe thead th {\n",
              "        text-align: right;\n",
              "    }\n",
              "</style>\n",
              "<table border=\"1\" class=\"dataframe\">\n",
              "  <thead>\n",
              "    <tr style=\"text-align: right;\">\n",
              "      <th></th>\n",
              "      <th>city</th>\n",
              "      <th>city_development_Index</th>\n",
              "      <th>gender</th>\n",
              "      <th>relevent_experience</th>\n",
              "      <th>enrolled_university</th>\n",
              "      <th>education_level</th>\n",
              "      <th>major_discipline</th>\n",
              "      <th>experience</th>\n",
              "      <th>company_type</th>\n",
              "      <th>last_new_job</th>\n",
              "      <th>training_hours</th>\n",
              "      <th>target</th>\n",
              "    </tr>\n",
              "  </thead>\n",
              "  <tbody>\n",
              "    <tr>\n",
              "      <th>0</th>\n",
              "      <td>5</td>\n",
              "      <td>0.920</td>\n",
              "      <td>2</td>\n",
              "      <td>0</td>\n",
              "      <td>0</td>\n",
              "      <td>1</td>\n",
              "      <td>5</td>\n",
              "      <td>30</td>\n",
              "      <td>0</td>\n",
              "      <td>2</td>\n",
              "      <td>36</td>\n",
              "      <td>1</td>\n",
              "    </tr>\n",
              "    <tr>\n",
              "      <th>1</th>\n",
              "      <td>77</td>\n",
              "      <td>0.776</td>\n",
              "      <td>2</td>\n",
              "      <td>1</td>\n",
              "      <td>0</td>\n",
              "      <td>1</td>\n",
              "      <td>5</td>\n",
              "      <td>15</td>\n",
              "      <td>3</td>\n",
              "      <td>6</td>\n",
              "      <td>47</td>\n",
              "      <td>0</td>\n",
              "    </tr>\n",
              "    <tr>\n",
              "      <th>2</th>\n",
              "      <td>64</td>\n",
              "      <td>0.624</td>\n",
              "      <td>1</td>\n",
              "      <td>1</td>\n",
              "      <td>2</td>\n",
              "      <td>1</td>\n",
              "      <td>5</td>\n",
              "      <td>5</td>\n",
              "      <td>0</td>\n",
              "      <td>0</td>\n",
              "      <td>83</td>\n",
              "      <td>0</td>\n",
              "    </tr>\n",
              "    <tr>\n",
              "      <th>3</th>\n",
              "      <td>50</td>\n",
              "      <td>0.767</td>\n",
              "      <td>2</td>\n",
              "      <td>0</td>\n",
              "      <td>0</td>\n",
              "      <td>2</td>\n",
              "      <td>5</td>\n",
              "      <td>30</td>\n",
              "      <td>2</td>\n",
              "      <td>5</td>\n",
              "      <td>8</td>\n",
              "      <td>0</td>\n",
              "    </tr>\n",
              "    <tr>\n",
              "      <th>4</th>\n",
              "      <td>57</td>\n",
              "      <td>0.764</td>\n",
              "      <td>1</td>\n",
              "      <td>0</td>\n",
              "      <td>1</td>\n",
              "      <td>1</td>\n",
              "      <td>5</td>\n",
              "      <td>11</td>\n",
              "      <td>0</td>\n",
              "      <td>2</td>\n",
              "      <td>24</td>\n",
              "      <td>1</td>\n",
              "    </tr>\n",
              "    <tr>\n",
              "      <th>...</th>\n",
              "      <td>...</td>\n",
              "      <td>...</td>\n",
              "      <td>...</td>\n",
              "      <td>...</td>\n",
              "      <td>...</td>\n",
              "      <td>...</td>\n",
              "      <td>...</td>\n",
              "      <td>...</td>\n",
              "      <td>...</td>\n",
              "      <td>...</td>\n",
              "      <td>...</td>\n",
              "      <td>...</td>\n",
              "    </tr>\n",
              "    <tr>\n",
              "      <th>18121</th>\n",
              "      <td>5</td>\n",
              "      <td>0.920</td>\n",
              "      <td>0</td>\n",
              "      <td>1</td>\n",
              "      <td>0</td>\n",
              "      <td>3</td>\n",
              "      <td>5</td>\n",
              "      <td>17</td>\n",
              "      <td>4</td>\n",
              "      <td>5</td>\n",
              "      <td>16</td>\n",
              "      <td>0</td>\n",
              "    </tr>\n",
              "    <tr>\n",
              "      <th>18122</th>\n",
              "      <td>64</td>\n",
              "      <td>0.624</td>\n",
              "      <td>1</td>\n",
              "      <td>1</td>\n",
              "      <td>2</td>\n",
              "      <td>0</td>\n",
              "      <td>0</td>\n",
              "      <td>9</td>\n",
              "      <td>0</td>\n",
              "      <td>2</td>\n",
              "      <td>68</td>\n",
              "      <td>1</td>\n",
              "    </tr>\n",
              "    <tr>\n",
              "      <th>18123</th>\n",
              "      <td>5</td>\n",
              "      <td>0.920</td>\n",
              "      <td>2</td>\n",
              "      <td>0</td>\n",
              "      <td>0</td>\n",
              "      <td>2</td>\n",
              "      <td>5</td>\n",
              "      <td>30</td>\n",
              "      <td>3</td>\n",
              "      <td>6</td>\n",
              "      <td>110</td>\n",
              "      <td>0</td>\n",
              "    </tr>\n",
              "    <tr>\n",
              "      <th>18124</th>\n",
              "      <td>103</td>\n",
              "      <td>0.939</td>\n",
              "      <td>2</td>\n",
              "      <td>0</td>\n",
              "      <td>0</td>\n",
              "      <td>2</td>\n",
              "      <td>5</td>\n",
              "      <td>14</td>\n",
              "      <td>3</td>\n",
              "      <td>2</td>\n",
              "      <td>82</td>\n",
              "      <td>0</td>\n",
              "    </tr>\n",
              "    <tr>\n",
              "      <th>18125</th>\n",
              "      <td>89</td>\n",
              "      <td>0.866</td>\n",
              "      <td>2</td>\n",
              "      <td>1</td>\n",
              "      <td>0</td>\n",
              "      <td>1</td>\n",
              "      <td>5</td>\n",
              "      <td>10</td>\n",
              "      <td>0</td>\n",
              "      <td>2</td>\n",
              "      <td>50</td>\n",
              "      <td>0</td>\n",
              "    </tr>\n",
              "  </tbody>\n",
              "</table>\n",
              "<p>18126 rows × 12 columns</p>\n",
              "</div>"
            ],
            "text/plain": [
              "       city  city_development_Index  gender  relevent_experience  \\\n",
              "0         5                   0.920       2                    0   \n",
              "1        77                   0.776       2                    1   \n",
              "2        64                   0.624       1                    1   \n",
              "3        50                   0.767       2                    0   \n",
              "4        57                   0.764       1                    0   \n",
              "...     ...                     ...     ...                  ...   \n",
              "18121     5                   0.920       0                    1   \n",
              "18122    64                   0.624       1                    1   \n",
              "18123     5                   0.920       2                    0   \n",
              "18124   103                   0.939       2                    0   \n",
              "18125    89                   0.866       2                    1   \n",
              "\n",
              "       enrolled_university  education_level  major_discipline  experience  \\\n",
              "0                        0                1                 5          30   \n",
              "1                        0                1                 5          15   \n",
              "2                        2                1                 5           5   \n",
              "3                        0                2                 5          30   \n",
              "4                        1                1                 5          11   \n",
              "...                    ...              ...               ...         ...   \n",
              "18121                    0                3                 5          17   \n",
              "18122                    2                0                 0           9   \n",
              "18123                    0                2                 5          30   \n",
              "18124                    0                2                 5          14   \n",
              "18125                    0                1                 5          10   \n",
              "\n",
              "       company_type  last_new_job  training_hours  target  \n",
              "0                 0             2              36       1  \n",
              "1                 3             6              47       0  \n",
              "2                 0             0              83       0  \n",
              "3                 2             5               8       0  \n",
              "4                 0             2              24       1  \n",
              "...             ...           ...             ...     ...  \n",
              "18121             4             5              16       0  \n",
              "18122             0             2              68       1  \n",
              "18123             3             6             110       0  \n",
              "18124             3             2              82       0  \n",
              "18125             0             2              50       0  \n",
              "\n",
              "[18126 rows x 12 columns]"
            ]
          },
          "execution_count": 30,
          "metadata": {},
          "output_type": "execute_result"
        }
      ],
      "source": [
        "changingjob_df"
      ]
    },
    {
      "cell_type": "markdown",
      "metadata": {
        "id": "Bkpkg1kbGWE0"
      },
      "source": [
        "## 불균형 데이터 처리"
      ]
    },
    {
      "cell_type": "code",
      "execution_count": null,
      "metadata": {
        "id": "N4PqPjiYGWE0",
        "outputId": "90797122-e597-42bc-c980-f225a5125b07"
      },
      "outputs": [
        {
          "name": "stdout",
          "output_type": "stream",
          "text": [
            "(18126, 11)\n",
            "(18126,)\n",
            "0의 개수 13639\n",
            "1의 개수 4487\n"
          ]
        }
      ],
      "source": [
        "X = changingjob_df.drop('target', axis=1)\n",
        "y = changingjob_df['target']\n",
        "print(X.shape)\n",
        "print(y.shape)\n",
        "print('0의 개수', sum(y==0))\n",
        "print('1의 개수', sum(y==1))"
      ]
    },
    {
      "cell_type": "code",
      "execution_count": null,
      "metadata": {
        "id": "IkQ4Ox5DGWE0",
        "outputId": "705ecaca-494d-4446-942e-f749bb382c1b"
      },
      "outputs": [
        {
          "name": "stdout",
          "output_type": "stream",
          "text": [
            "(16837, 11)\n",
            "(16837,)\n",
            "0의 개수 12350\n",
            "1의 개수 4487\n"
          ]
        }
      ],
      "source": [
        "from imblearn.under_sampling import *\n",
        "from imblearn.over_sampling import *\n",
        "from imblearn.combine import *\n",
        "\n",
        "X_resampled, y_resampled = TomekLinks().fit_resample(X,y)\n",
        "print(X_resampled.shape)\n",
        "print(y_resampled.shape)\n",
        "print('0의 개수', sum(y_resampled==0))\n",
        "print('1의 개수', sum(y_resampled==1))"
      ]
    },
    {
      "cell_type": "code",
      "execution_count": null,
      "metadata": {
        "id": "RLHaM4aSGWE1",
        "outputId": "4448a156-701e-45d9-ecd2-ec2407cfc0e3"
      },
      "outputs": [
        {
          "data": {
            "text/html": [
              "<div>\n",
              "<style scoped>\n",
              "    .dataframe tbody tr th:only-of-type {\n",
              "        vertical-align: middle;\n",
              "    }\n",
              "\n",
              "    .dataframe tbody tr th {\n",
              "        vertical-align: top;\n",
              "    }\n",
              "\n",
              "    .dataframe thead th {\n",
              "        text-align: right;\n",
              "    }\n",
              "</style>\n",
              "<table border=\"1\" class=\"dataframe\">\n",
              "  <thead>\n",
              "    <tr style=\"text-align: right;\">\n",
              "      <th></th>\n",
              "      <th>city</th>\n",
              "      <th>city_development_Index</th>\n",
              "      <th>gender</th>\n",
              "      <th>relevent_experience</th>\n",
              "      <th>enrolled_university</th>\n",
              "      <th>education_level</th>\n",
              "      <th>major_discipline</th>\n",
              "      <th>experience</th>\n",
              "      <th>company_type</th>\n",
              "      <th>last_new_job</th>\n",
              "      <th>training_hours</th>\n",
              "      <th>target</th>\n",
              "    </tr>\n",
              "  </thead>\n",
              "  <tbody>\n",
              "    <tr>\n",
              "      <th>0</th>\n",
              "      <td>5</td>\n",
              "      <td>0.920</td>\n",
              "      <td>2</td>\n",
              "      <td>0</td>\n",
              "      <td>0</td>\n",
              "      <td>1</td>\n",
              "      <td>5</td>\n",
              "      <td>30</td>\n",
              "      <td>0</td>\n",
              "      <td>2</td>\n",
              "      <td>36</td>\n",
              "      <td>1</td>\n",
              "    </tr>\n",
              "    <tr>\n",
              "      <th>1</th>\n",
              "      <td>77</td>\n",
              "      <td>0.776</td>\n",
              "      <td>2</td>\n",
              "      <td>1</td>\n",
              "      <td>0</td>\n",
              "      <td>1</td>\n",
              "      <td>5</td>\n",
              "      <td>15</td>\n",
              "      <td>3</td>\n",
              "      <td>6</td>\n",
              "      <td>47</td>\n",
              "      <td>0</td>\n",
              "    </tr>\n",
              "    <tr>\n",
              "      <th>2</th>\n",
              "      <td>64</td>\n",
              "      <td>0.624</td>\n",
              "      <td>1</td>\n",
              "      <td>1</td>\n",
              "      <td>2</td>\n",
              "      <td>1</td>\n",
              "      <td>5</td>\n",
              "      <td>5</td>\n",
              "      <td>0</td>\n",
              "      <td>0</td>\n",
              "      <td>83</td>\n",
              "      <td>0</td>\n",
              "    </tr>\n",
              "    <tr>\n",
              "      <th>3</th>\n",
              "      <td>50</td>\n",
              "      <td>0.767</td>\n",
              "      <td>2</td>\n",
              "      <td>0</td>\n",
              "      <td>0</td>\n",
              "      <td>2</td>\n",
              "      <td>5</td>\n",
              "      <td>30</td>\n",
              "      <td>2</td>\n",
              "      <td>5</td>\n",
              "      <td>8</td>\n",
              "      <td>0</td>\n",
              "    </tr>\n",
              "    <tr>\n",
              "      <th>4</th>\n",
              "      <td>57</td>\n",
              "      <td>0.764</td>\n",
              "      <td>1</td>\n",
              "      <td>0</td>\n",
              "      <td>1</td>\n",
              "      <td>1</td>\n",
              "      <td>5</td>\n",
              "      <td>11</td>\n",
              "      <td>0</td>\n",
              "      <td>2</td>\n",
              "      <td>24</td>\n",
              "      <td>1</td>\n",
              "    </tr>\n",
              "    <tr>\n",
              "      <th>...</th>\n",
              "      <td>...</td>\n",
              "      <td>...</td>\n",
              "      <td>...</td>\n",
              "      <td>...</td>\n",
              "      <td>...</td>\n",
              "      <td>...</td>\n",
              "      <td>...</td>\n",
              "      <td>...</td>\n",
              "      <td>...</td>\n",
              "      <td>...</td>\n",
              "      <td>...</td>\n",
              "      <td>...</td>\n",
              "    </tr>\n",
              "    <tr>\n",
              "      <th>16832</th>\n",
              "      <td>5</td>\n",
              "      <td>0.920</td>\n",
              "      <td>0</td>\n",
              "      <td>1</td>\n",
              "      <td>0</td>\n",
              "      <td>3</td>\n",
              "      <td>5</td>\n",
              "      <td>17</td>\n",
              "      <td>4</td>\n",
              "      <td>5</td>\n",
              "      <td>16</td>\n",
              "      <td>0</td>\n",
              "    </tr>\n",
              "    <tr>\n",
              "      <th>16833</th>\n",
              "      <td>64</td>\n",
              "      <td>0.624</td>\n",
              "      <td>1</td>\n",
              "      <td>1</td>\n",
              "      <td>2</td>\n",
              "      <td>0</td>\n",
              "      <td>0</td>\n",
              "      <td>9</td>\n",
              "      <td>0</td>\n",
              "      <td>2</td>\n",
              "      <td>68</td>\n",
              "      <td>1</td>\n",
              "    </tr>\n",
              "    <tr>\n",
              "      <th>16834</th>\n",
              "      <td>5</td>\n",
              "      <td>0.920</td>\n",
              "      <td>2</td>\n",
              "      <td>0</td>\n",
              "      <td>0</td>\n",
              "      <td>2</td>\n",
              "      <td>5</td>\n",
              "      <td>30</td>\n",
              "      <td>3</td>\n",
              "      <td>6</td>\n",
              "      <td>110</td>\n",
              "      <td>0</td>\n",
              "    </tr>\n",
              "    <tr>\n",
              "      <th>16835</th>\n",
              "      <td>103</td>\n",
              "      <td>0.939</td>\n",
              "      <td>2</td>\n",
              "      <td>0</td>\n",
              "      <td>0</td>\n",
              "      <td>2</td>\n",
              "      <td>5</td>\n",
              "      <td>14</td>\n",
              "      <td>3</td>\n",
              "      <td>2</td>\n",
              "      <td>82</td>\n",
              "      <td>0</td>\n",
              "    </tr>\n",
              "    <tr>\n",
              "      <th>16836</th>\n",
              "      <td>89</td>\n",
              "      <td>0.866</td>\n",
              "      <td>2</td>\n",
              "      <td>1</td>\n",
              "      <td>0</td>\n",
              "      <td>1</td>\n",
              "      <td>5</td>\n",
              "      <td>10</td>\n",
              "      <td>0</td>\n",
              "      <td>2</td>\n",
              "      <td>50</td>\n",
              "      <td>0</td>\n",
              "    </tr>\n",
              "  </tbody>\n",
              "</table>\n",
              "<p>16837 rows × 12 columns</p>\n",
              "</div>"
            ],
            "text/plain": [
              "       city  city_development_Index  gender  relevent_experience  \\\n",
              "0         5                   0.920       2                    0   \n",
              "1        77                   0.776       2                    1   \n",
              "2        64                   0.624       1                    1   \n",
              "3        50                   0.767       2                    0   \n",
              "4        57                   0.764       1                    0   \n",
              "...     ...                     ...     ...                  ...   \n",
              "16832     5                   0.920       0                    1   \n",
              "16833    64                   0.624       1                    1   \n",
              "16834     5                   0.920       2                    0   \n",
              "16835   103                   0.939       2                    0   \n",
              "16836    89                   0.866       2                    1   \n",
              "\n",
              "       enrolled_university  education_level  major_discipline  experience  \\\n",
              "0                        0                1                 5          30   \n",
              "1                        0                1                 5          15   \n",
              "2                        2                1                 5           5   \n",
              "3                        0                2                 5          30   \n",
              "4                        1                1                 5          11   \n",
              "...                    ...              ...               ...         ...   \n",
              "16832                    0                3                 5          17   \n",
              "16833                    2                0                 0           9   \n",
              "16834                    0                2                 5          30   \n",
              "16835                    0                2                 5          14   \n",
              "16836                    0                1                 5          10   \n",
              "\n",
              "       company_type  last_new_job  training_hours  target  \n",
              "0                 0             2              36       1  \n",
              "1                 3             6              47       0  \n",
              "2                 0             0              83       0  \n",
              "3                 2             5               8       0  \n",
              "4                 0             2              24       1  \n",
              "...             ...           ...             ...     ...  \n",
              "16832             4             5              16       0  \n",
              "16833             0             2              68       1  \n",
              "16834             3             6             110       0  \n",
              "16835             3             2              82       0  \n",
              "16836             0             2              50       0  \n",
              "\n",
              "[16837 rows x 12 columns]"
            ]
          },
          "execution_count": 33,
          "metadata": {},
          "output_type": "execute_result"
        }
      ],
      "source": [
        "changingjob_df = X_resampled.join(y_resampled)\n",
        "changingjob_df"
      ]
    },
    {
      "cell_type": "markdown",
      "metadata": {
        "id": "BzCdkQPDGWE1"
      },
      "source": [
        "### 변수선정"
      ]
    },
    {
      "cell_type": "code",
      "execution_count": null,
      "metadata": {
        "id": "Mukd5ANuGWE1",
        "outputId": "8f6c920c-acd6-4467-b1ed-ed1c1e9bbd41"
      },
      "outputs": [
        {
          "data": {
            "image/png": "[encoded data removed]",
            "text/plain": [
              "<Figure size 432x288 with 1 Axes>"
            ]
          },
          "metadata": {
            "needs_background": "light"
          },
          "output_type": "display_data"
        }
      ],
      "source": [
        "import seaborn as sns\n",
        "import matplotlib.pyplot as plt\n",
        "sns.violinplot(x='target', y='city_development_Index', data=changingjob_df)\n",
        "plt.show()"
      ]
    },
    {
      "cell_type": "code",
      "execution_count": null,
      "metadata": {
        "id": "i9EdIV1kGWE1",
        "outputId": "a0965c69-6c08-4f82-c280-7fb694055199"
      },
      "outputs": [
        {
          "data": {
            "image/png": "[encoded data removed]",
            "text/plain": [
              "<Figure size 432x288 with 1 Axes>"
            ]
          },
          "metadata": {
            "needs_background": "light"
          },
          "output_type": "display_data"
        }
      ],
      "source": [
        "sns.violinplot(x='target', y='city', data=changingjob_df)\n",
        "plt.show()"
      ]
    },
    {
      "cell_type": "code",
      "execution_count": null,
      "metadata": {
        "id": "GEeDVYjZGWE1",
        "outputId": "b538025d-dea8-4b07-863b-d68c01ec76bb"
      },
      "outputs": [
        {
          "data": {
            "image/png": "[encoded data removed]",
            "text/plain": [
              "<Figure size 432x288 with 1 Axes>"
            ]
          },
          "metadata": {
            "needs_background": "light"
          },
          "output_type": "display_data"
        }
      ],
      "source": [
        "sns.violinplot(x='target', y='gender', data=changingjob_df)\n",
        "plt.show()"
      ]
    },
    {
      "cell_type": "code",
      "execution_count": null,
      "metadata": {
        "id": "soHrIEmgGWE2",
        "outputId": "3e5b7272-8b72-44a6-a712-a1526dab9a9a"
      },
      "outputs": [
        {
          "data": {
            "image/png": "[encoded data removed]",
            "text/plain": [
              "<Figure size 432x288 with 1 Axes>"
            ]
          },
          "metadata": {
            "needs_background": "light"
          },
          "output_type": "display_data"
        }
      ],
      "source": [
        "sns.violinplot(x='target', y='relevent_experience', data=changingjob_df)\n",
        "plt.show()"
      ]
    },
    {
      "cell_type": "code",
      "execution_count": null,
      "metadata": {
        "id": "1QZO_an6GWE2",
        "outputId": "a3228612-83c7-4ab1-c58c-a303d167daa7"
      },
      "outputs": [
        {
          "data": {
            "image/png": "[encoded data removed]",
            "text/plain": [
              "<Figure size 432x288 with 1 Axes>"
            ]
          },
          "metadata": {
            "needs_background": "light"
          },
          "output_type": "display_data"
        }
      ],
      "source": [
        "sns.violinplot(x='target', y='enrolled_university', data=changingjob_df)\n",
        "plt.show()"
      ]
    },
    {
      "cell_type": "code",
      "execution_count": null,
      "metadata": {
        "id": "ciGu680FGWE2",
        "outputId": "10067cfa-23a3-4433-9ccd-cddf0b159950"
      },
      "outputs": [
        {
          "data": {
            "image/png": "[encoded data removed]",
            "text/plain": [
              "<Figure size 432x288 with 1 Axes>"
            ]
          },
          "metadata": {
            "needs_background": "light"
          },
          "output_type": "display_data"
        }
      ],
      "source": [
        "sns.violinplot(x='target', y='education_level', data=changingjob_df)\n",
        "plt.show()"
      ]
    },
    {
      "cell_type": "code",
      "execution_count": null,
      "metadata": {
        "id": "Z6ROSDm5GWE2",
        "outputId": "536e3ad1-2cc4-402a-d2f2-aeacbf70728b"
      },
      "outputs": [
        {
          "data": {
            "image/png": "[encoded data removed]",
            "text/plain": [
              "<Figure size 432x288 with 1 Axes>"
            ]
          },
          "metadata": {
            "needs_background": "light"
          },
          "output_type": "display_data"
        }
      ],
      "source": [
        "sns.violinplot(x='target', y='major_discipline', data=changingjob_df)\n",
        "plt.show()"
      ]
    },
    {
      "cell_type": "code",
      "execution_count": null,
      "metadata": {
        "id": "DwZZBRt5GWE2",
        "outputId": "ea7f46ff-b7cb-4c81-c97c-9f1f28e8d6f0"
      },
      "outputs": [
        {
          "data": {
            "image/png": "[encoded data removed]",
            "text/plain": [
              "<Figure size 432x288 with 1 Axes>"
            ]
          },
          "metadata": {
            "needs_background": "light"
          },
          "output_type": "display_data"
        }
      ],
      "source": [
        "sns.violinplot(x='target', y='experience', data=changingjob_df)\n",
        "plt.show()"
      ]
    },
    {
      "cell_type": "code",
      "execution_count": null,
      "metadata": {
        "id": "yzO4tBPCGWE3",
        "outputId": "fef40f8f-95c1-44d2-8ee6-5059e3c72b81"
      },
      "outputs": [
        {
          "data": {
            "image/png": "[encoded data removed]",
            "text/plain": [
              "<Figure size 432x288 with 1 Axes>"
            ]
          },
          "metadata": {
            "needs_background": "light"
          },
          "output_type": "display_data"
        }
      ],
      "source": [
        "sns.violinplot(x='target', y='company_type', data=changingjob_df)\n",
        "plt.show()"
      ]
    },
    {
      "cell_type": "code",
      "execution_count": null,
      "metadata": {
        "id": "PwfSUcQmGWE3",
        "outputId": "412d6def-e8f0-4790-8dd4-d84a55524a5d"
      },
      "outputs": [
        {
          "data": {
            "image/png": "[encoded data removed]",
            "text/plain": [
              "<Figure size 432x288 with 1 Axes>"
            ]
          },
          "metadata": {
            "needs_background": "light"
          },
          "output_type": "display_data"
        }
      ],
      "source": [
        "sns.violinplot(x='target', y='last_new_job', data=changingjob_df)\n",
        "plt.show()"
      ]
    },
    {
      "cell_type": "code",
      "execution_count": null,
      "metadata": {
        "id": "fjlBovImGWE3",
        "outputId": "85a33931-571c-481e-a47b-4a410b39ddf2"
      },
      "outputs": [
        {
          "data": {
            "image/png": "[encoded data removed]",
            "text/plain": [
              "<Figure size 432x288 with 1 Axes>"
            ]
          },
          "metadata": {
            "needs_background": "light"
          },
          "output_type": "display_data"
        }
      ],
      "source": [
        "sns.violinplot(x='target', y='training_hours', data=changingjob_df)\n",
        "plt.show()"
      ]
    },
    {
      "cell_type": "code",
      "execution_count": null,
      "metadata": {
        "id": "0rnfJC3wGWE3",
        "outputId": "52b86b44-b4ec-4e64-cd5d-87f0a287a030"
      },
      "outputs": [
        {
          "data": {
            "text/plain": [
              "city_development_Index   -0.368427\n",
              "company_type             -0.220107\n",
              "experience               -0.176218\n",
              "last_new_job             -0.098968\n",
              "gender                   -0.064572\n",
              "education_level          -0.025231\n",
              "training_hours           -0.024717\n",
              "major_discipline          0.052873\n",
              "city                      0.063196\n",
              "relevent_experience       0.141036\n",
              "enrolled_university       0.170870\n",
              "target                    1.000000\n",
              "Name: target, dtype: float64"
            ]
          },
          "execution_count": 45,
          "metadata": {},
          "output_type": "execute_result"
        }
      ],
      "source": [
        "changingjob_df.corr()['target'].sort_values()"
      ]
    }
  ],
  "metadata": {
    "kernelspec": {
      "display_name": "Python 3",
      "language": "python",
      "name": "python3"
    },
    "language_info": {
      "codemirror_mode": {
        "name": "ipython",
        "version": 3
      },
      "file_extension": ".py",
      "mimetype": "text/x-python",
      "name": "python",
      "nbconvert_exporter": "python",
      "pygments_lexer": "ipython3",
      "version": "3.8.5"
    },
    "colab": {
      "provenance": []
    }
  },
  "nbformat": 4,
  "nbformat_minor": 0
}